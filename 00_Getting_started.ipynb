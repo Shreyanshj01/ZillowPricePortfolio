{
 "cells": [
  {
   "cell_type": "markdown",
   "metadata": {},
   "source": [
    "## Unzipping Data"
   ]
  },
  {
   "cell_type": "code",
   "execution_count": null,
   "metadata": {},
   "outputs": [],
   "source": [
    "%%bash\n",
    "\n",
    "# make a directory called unzipped_data, deleting one if it exists\n",
    "rm -rf unzipped_data\n",
    "mkdir unzipped_data\n",
    "\n",
    "# unzip the raw data into a directory called unzipped_data\n",
    "unzip \"raw_data/*.zip\" -d unzipped_data\n",
    "\n",
    "# rename train_2016_v2.csv to train_2016.csv. there is no V1, so it's all the same to us\n",
    "mv unzipped_data/train_2016_v2.csv unzipped_data/train_2016.csv"
   ]
  }
 ],
 "metadata": {
  "kernelspec": {
   "display_name": "Python 3",
   "language": "python",
   "name": "python3"
  },
  "language_info": {
   "codemirror_mode": {
    "name": "ipython",
    "version": 3
   },
   "file_extension": ".py",
   "mimetype": "text/x-python",
   "name": "python",
   "nbconvert_exporter": "python",
   "pygments_lexer": "ipython3",
   "version": "3.7.4"
  }
 },
 "nbformat": 4,
 "nbformat_minor": 2
}
